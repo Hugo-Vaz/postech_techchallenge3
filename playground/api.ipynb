{
 "cells": [
  {
   "cell_type": "code",
   "execution_count": null,
   "metadata": {},
   "outputs": [],
   "source": [
    "%pip install pandas\n",
    "%pip install sklearn"
   ]
  },
  {
   "cell_type": "code",
   "execution_count": 12,
   "metadata": {},
   "outputs": [],
   "source": [
    "import pandas as pd\n",
    "import pickle\n",
    "from sklearn.preprocessing import MultiLabelBinarizer, LabelEncoder"
   ]
  },
  {
   "cell_type": "code",
   "execution_count": null,
   "metadata": {},
   "outputs": [],
   "source": [
    "movies_data = pd.read_csv('../raw/ml-1m/movies.dat',sep='::',header=None,names=['movieid','title','genres'],encoding='iso-8859-2')\n",
    "movies_data.head()"
   ]
  },
  {
   "cell_type": "code",
   "execution_count": null,
   "metadata": {},
   "outputs": [],
   "source": [
    "movies_data['genres'] = movies_data[\"genres\"].str.split(\"|\")\n",
    "movies_data"
   ]
  },
  {
   "cell_type": "code",
   "execution_count": null,
   "metadata": {},
   "outputs": [],
   "source": [
    "mlb = MultiLabelBinarizer()\n",
    "encoded_data = mlb.fit_transform(movies_data['genres'])\n",
    "dados_encodados = pd.DataFrame(encoded_data, columns=mlb.classes_)\n",
    "dados_encodados"
   ]
  },
  {
   "cell_type": "code",
   "execution_count": null,
   "metadata": {},
   "outputs": [],
   "source": [
    "dados_encodados = pd.concat([dados_encodados, movies_data], axis=1)\n",
    "dados_encodados = dados_encodados.drop(['genres'], axis=1)\n",
    "\n",
    "dados_encodados['gender'] = 'F'\n",
    "dados_encodados['age'] = 38\n",
    "dados_encodados['occupation'] = 10\n",
    "\n",
    "dados_encodados"
   ]
  },
  {
   "cell_type": "code",
   "execution_count": null,
   "metadata": {},
   "outputs": [],
   "source": [
    "label_encoder = LabelEncoder()\n",
    "dados_encodados['gender'] = label_encoder.fit_transform(dados_encodados['gender'])\n",
    "dados_encodados"
   ]
  },
  {
   "cell_type": "code",
   "execution_count": null,
   "metadata": {},
   "outputs": [],
   "source": [
    "with open('./modelo-xgboost.sav', 'rb') as f:\n",
    "    modelo = pickle.load(f)\n",
    "modelo"
   ]
  },
  {
   "cell_type": "code",
   "execution_count": null,
   "metadata": {},
   "outputs": [],
   "source": [
    "ratings = []\n",
    "\n",
    "data_items = []\n",
    "\n",
    "for index, row in dados_encodados.iterrows():\n",
    "    dataset = row.drop(['title', 'movieid'])\n",
    "    pred = modelo.predict([dataset])\n",
    "    ratings.append((row['title'], pred[0]))\n",
    "\n",
    "ratings"
   ]
  },
  {
   "cell_type": "code",
   "execution_count": null,
   "metadata": {},
   "outputs": [],
   "source": [
    "sortFunc = lambda e: e[1]\n",
    "ratings.sort(key=sortFunc, reverse=True)\n",
    "\n",
    "top_5 = ratings[0:5]\n",
    "\n",
    "for top in top_5:\n",
    "    print(top[0])"
   ]
  }
 ],
 "metadata": {
  "kernelspec": {
   "display_name": "Python 3",
   "language": "python",
   "name": "python3"
  },
  "language_info": {
   "codemirror_mode": {
    "name": "ipython",
    "version": 3
   },
   "file_extension": ".py",
   "mimetype": "text/x-python",
   "name": "python",
   "nbconvert_exporter": "python",
   "pygments_lexer": "ipython3",
   "version": "3.12.3"
  }
 },
 "nbformat": 4,
 "nbformat_minor": 2
}
